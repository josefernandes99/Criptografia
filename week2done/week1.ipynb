{
 "cells": [
  {
   "cell_type": "markdown",
   "id": "0745c7fd",
   "metadata": {},
   "source": [
    "# Three classic encripted messages with increasing security\n",
    "\n",
    "\n",
    "\n",
    "## 1 - A monoalphabetical cipher\n",
    "\n",
    "The first one \"msg1\" is the result of applying a simple mono-alphabetic transformation.\n",
    "\n",
    "Statistics for the occurence of each character in texts of this kind (portuguese) are given by the dictionary PTstats\n",
    "\n",
    "### Before executing *anything* you need to obtain a file named \"work??.py\" and rename it as \"data.py\"."
   ]
  },
  {
   "cell_type": "code",
   "execution_count": 35,
   "id": "6085bf54",
   "metadata": {},
   "outputs": [
    {
     "data": {
      "image/png": "[encoded data removed]",
      "text/plain": [
       "Graphics object consisting of 1 graphics primitive"
      ]
     },
     "metadata": {},
     "output_type": "display_data"
    }
   ],
   "source": [
    "import string\n",
    "from data import *\n",
    "from collections import Counter\n",
    "import matplotlib.pyplot as plt\n",
    "\n",
    "display(bar_chart([Stats[c] for c in string.ascii_lowercase]))"
   ]
  },
  {
   "cell_type": "markdown",
   "id": "d37c9240",
   "metadata": {},
   "source": [
    "The message was converted to a numerical code: 'a'->1, 'b'->2,..."
   ]
  },
  {
   "cell_type": "markdown",
   "id": "3a9fb0a5",
   "metadata": {},
   "source": [
    "### It should be quite easy to decript this message without almost any programming involved"
   ]
  },
  {
   "cell_type": "code",
   "execution_count": 36,
   "id": "585e4270",
   "metadata": {},
   "outputs": [
    {
     "name": "stdout",
     "output_type": "stream",
     "text": [
      "fkfovkpmcfzevamygamykoemawvripayiagfyvooipalxvlgawxbvvgvbwyawvdeygadempabbavawvkkafbmplmkalawkeomyakfywpmpemgaufbsbvgaxfydvgacmgyabkmnffwbauanvwgvwvbcmkfawgeawlfkawfwgvwvycfocmlvypfwgawmpeakafyfdfosfpbaywsfblabalaubfdbalagacmwmpagvgfedoawjebgaomwxfayelabaumgauawwadvluvoakaumpaoufbpedevwayakfysvbvykmagvmlubvywazevwvwvdemeabveymafkflfwvejflfofdfgvewumyjvmbffeymkfkflubflmwwfgvjebgvlufbpedaogvufmwgfkaykvoalvypfgfwvykfypbfwkfllabmfwfabvwvkacakfwmocaflmymwpbfxbmpaymkfbvcvofeaodeluvwwmlmwlfwfxbvfkfysompfyfdfosfgfedoawjebgkfywmgvbfelempfkfysewffgmwkebwfgvwaggaljewwvmygmwwvyafkfysmabyauaoacbagfubvwmgvypvmbazemayfvbvasmblfeakfycmkkafgvzevelkvwwabsfdfwfwvbaufwwmcvozeaygffmbazevakvmpabkoabalvypvpfgawawbvwfoekfvwgfkfywvojfgvwvdebaykagafyevbvpmbabgfteqampaxaygfyaygfablawvvzemualvypfsfypvwgfuvypadfyfkmpagawufbkagvmawgvpvovcmwafyfbpvalvbmkayawgvkoababaljfhvgvlagbedagazevawsfbkawaomagawyfmbazevvyfteqampaelvypabalfbmplfgaweafsvywmcahagvufmwgvfmbazevpvbayeykmagfelamyvwuvbagafbgvlgvbvpmbagaafwvevrvbkmpfya\n"
     ]
    }
   ],
   "source": [
    "msg1origin = \"\"\n",
    "sizemsg1 = 0\n",
    "\n",
    "for i in msg1:\n",
    "    msg1origin += chr(i+ord('`'))\n",
    "    sizemsg1 += 1\n",
    "    \n",
    "print(msg1origin)"
   ]
  },
  {
   "cell_type": "code",
   "execution_count": 37,
   "id": "f19b86d7",
   "metadata": {
    "scrolled": true
   },
   "outputs": [
    {
     "name": "stdout",
     "output_type": "stream",
     "text": [
      "Língua Portuguesa:\n"
     ]
    },
    {
     "data": {
      "image/png": "[encoded data removed]",
      "text/plain": [
       "<Figure size 432x288 with 1 Axes>"
      ]
     },
     "metadata": {
      "needs_background": "light"
     },
     "output_type": "display_data"
    }
   ],
   "source": [
    "counts = Counter(msg1origin)\n",
    "counts = {key: value/sizemsg1 for key, value in sorted(counts.items())}\n",
    "\n",
    "Stats = {key: value for key, value in sorted(Stats.items())}\n",
    "\n",
    "\n",
    "print(\"Língua Portuguesa:\")\n",
    "plt.bar(Stats.keys(), Stats.values())\n",
    "plt.show()"
   ]
  },
  {
   "cell_type": "code",
   "execution_count": 38,
   "id": "2cd741e7",
   "metadata": {},
   "outputs": [
    {
     "name": "stdout",
     "output_type": "stream",
     "text": [
      "Msg1:\n"
     ]
    },
    {
     "data": {
      "image/png": "[encoded data removed]",
      "text/plain": [
       "<Figure size 432x288 with 1 Axes>"
      ]
     },
     "metadata": {
      "needs_background": "light"
     },
     "output_type": "display_data"
    }
   ],
   "source": [
    "print(\"Msg1:\")\n",
    "plt.bar(counts.keys(), counts.values())\n",
    "plt.show()"
   ]
  },
  {
   "cell_type": "code",
   "execution_count": 39,
   "id": "2e383c99",
   "metadata": {},
   "outputs": [],
   "source": [
    "initChars = ['a','b','c','d','e','f','g','h','i','j','k','l','m','n','o','p','q','r','s','t','u','v','w','x','y','z']\n",
    "finalChars = ['a',#a\n",
    "              'r',#b\n",
    "              'v',#c\n",
    "              'g',#d\n",
    "              'u',#e\n",
    "              'o',#f\n",
    "              'd',#g\n",
    "              'j',#h\n",
    "              'y',#i\n",
    "              'h',#j\n",
    "              'c',#k\n",
    "              'm',#l\n",
    "              'i',#m\n",
    "              'z',#n\n",
    "              'l',#o\n",
    "              't',#p\n",
    "              'w',#q\n",
    "              'x',#r\n",
    "              'f',#s\n",
    "              'k',#t\n",
    "              'p',#u\n",
    "              'e',#v\n",
    "              's',#w\n",
    "              'b',#x\n",
    "              'n',#y\n",
    "              'q']#z"
   ]
  },
  {
   "cell_type": "code",
   "execution_count": 40,
   "id": "1f0c8570",
   "metadata": {},
   "outputs": [
    {
     "name": "stdout",
     "output_type": "stream",
     "text": [
      "ocolectivoqueaindaincluiasexytanyadonellytambemdasbreedersnasegundaguitarraeaseccaoritmicamasculinaconstituidaporfredabongedavidnarcizoosrapazesdeservicoasduasmocasosdesenvolvimentosdasituacaonogolfotransformaramaprogramadavisitadedouglashurdalisboanumarapidapassagempelacapitalportuguesanaconferenciadeimprensaqueseseguiuareuniaocomoseuhomologodeuspinheiroounicocompromissodehurdemportugaldepoisdocancelamentodosencontroscommariosoaresecavacosilvaoministrobritanicoreveloualgumpessimismosobreoconflitonogolfodouglashurdconsideroumuitoconfusoodiscursodesaddamhusseindissenaoconfiarnapalavradopresidenteiraquianoereafirmouaconviccaodequeumcessarfogososerapossivelquandooiraqueaceitarclaramentetodasasresolucoesdoconselhodesegurancadaonueretirardokuwaitabandonandoarmaseequipamentofontesdopentagonocitadasporcadeiasdetelevisaonorteamericanasdeclararamhojedemadrugadaqueasforcasaliadasnoiraqueenokuwaitaumentaramoritmodasuaofensivajadepoisdeoiraqueteranunciadoumainesperadaordemderetiradaaoseuexercitona\n"
     ]
    }
   ],
   "source": [
    "msg1final = \"\"\n",
    "\n",
    "for x in msg1origin:\n",
    "    i=0;\n",
    "    for y in initChars:\n",
    "        i += 1\n",
    "        if x == y:\n",
    "            msg1final += finalChars[i-1]\n",
    "    \n",
    "print(msg1final)"
   ]
  },
  {
   "cell_type": "markdown",
   "id": "79700d2e",
   "metadata": {},
   "source": [
    "o colectivo que ainda inclui a sexy tanya donelly tambem das breeders na segunda guitarra e a seccao ritmica masculina constituida por fred abong e david narcizo os rapazes de servico as duas mocas os desenvolvimentos da situacao no golfo transformaram a programada visita de douglas hurd a lisboa numa rapida passagem pela capital portuguesa na conferencia de imprensa que se seguiu a reuniao como seu homologo deus pinheiro o unico compromisso de hurd em portugal depois do cancelamento dos encontros com mario soares e cavaco silva o ministro britanico revelou algum pessimismo sobre o conflito no golfo douglas hurd considerou muito confuso o discurso de saddam hussein disse nao confiar na palavra do presidente iraquiano e reafirmou a conviccao de que um cessar fogo so sera possivel quando o iraque aceitar claramente todas as resolucoes do conselho de seguranca da onu e retirar do kuwait abandonando armas e equipamento fontes do pentagono citadas por cadeias de televisao norte americanas declararam hoje de madrugada que as forcas aliadas no iraque e no kuwait aumentaram o ritmo da sua ofensiva ja depois de o iraque ter anunciado uma inesperada ordem de retirada ao seu exercito na"
   ]
  },
  {
   "cell_type": "markdown",
   "id": "bd7b00a4",
   "metadata": {},
   "source": [
    "## 2 - A simple Vigenère message\n",
    "\n",
    "In the next message, \"msg2\", a simple Vigènere was used. The \"msg2\" was coded the same manner as \"msg1\". \n",
    "\n",
    "We suggest that you use the Friedman test to determine the period (the size of the key).\n",
    "\n",
    "Friedman proved that, for  a class of cyphers that includes Vigenère, given two (long) texts, $T$ and $T'$, of the same size ($|T|=|T'|$), and with the same coincidence index ($Ic(T)=Ic(T')$),  their correspondent cyphertexts $E(T)$ and $E(T')$ satisfy\n",
    "\n",
    "$$K(T,T')=\\sum_i \\frac{\\delta(E(T)_i,E(T')_i)}{|T|}\\sim Ic(T),$$\n",
    "where\n",
    "\n",
    "$$\\delta(a,b)=\\begin{cases}1& \\text{if }a=b,\\\\\n",
    "             0& \\text{otherwise,}\n",
    "        \\end{cases}$$\n",
    "$T_i$ denotes the $i$th letter of $T$, and $Ic(T)$ the coincidence index of $T$. \n",
    "\n",
    "\n",
    "Thus, if $P^j(T)$ denotes the $j$th circular permutation of $T$, and $C$ is criptogram resulting from applying a periodic cypher of period $p$, the succesion $(K(C,P^i(C))_i$ should have local maximums that differ by exactly $p$. \n",
    "\n",
    "Knowing the period, one can study the statistic of occurences of each $\\{C_{pi+j}\\mid i\\in\\mathbb{N}\\}_{j<p}$ that should be similar to the original statistic of the source message, only affected by the circular permutation corresponging to the acting character of the key used. \n",
    "\n",
    "The carefull observation of the referred statistics an some \"trial & error\" should be enough to crack the criptogram."
   ]
  },
  {
   "cell_type": "code",
   "execution_count": 41,
   "id": "92d47e9b",
   "metadata": {},
   "outputs": [
    {
     "name": "stdout",
     "output_type": "stream",
     "text": [
      "wxgfgfediewihkfckjcpgrzzopsghigwiiofsivovvdeoemdeonhtjqcvafggimffsytjhtehuothevlggjkooseicivpdosytksogddcgwiisnerfbxmsrrcerfbvvpchqrdihgebvfkgpeouyhrbesjihcvduoiibuchmadskriztchpuctipcwbesffvyczgkecffkhwrsnfpywxextcoirrfpshgfqbxdcuqtjsueclbemdlcemcvouxpfotkjdspxdwckzpiwcwkvngwbfrkjxtofssvjkhdrsxsalqcssrwpxxwofetrgescjssyteqkehuoevxjsfsvfzhshfptiphigwircreavgvmczopedgfqntthqujvrgztiwcwtitkrpeqkesfdgpdzfcujvsqojnokxhvfceuzbcpjdoeseicfyrrcvyczgkecrsutpevqppvttectsuedwwnqtvbcztirchtrdtsrlfcgdehkrjrrgybrdcxgzoriguwfepgonihkwpepkfcztjrcwricpmrrgfexehkjpuogbecwesjfqkrtrgverfbumsvfcujvcctpisembvbvssfwpwizhwxdgctxjxigwsfgoyhviumbgzkgpdszmsrggqflsuxdvgfievguspcggqflsqwhzbfmrrhqwivbjebjwfsdljkhdjsvigdwpeszngrsfewidjsevtkotmdusgwirrqhptinxjiorvduibmcjhkxjkcuwtehchdrggggvhcvxrsfirfgvehmcnxpuoutpiocvtrzkhpussytgfgxterghxiwimgfdtihzrgrivrcvtgidpxtooegzcuspisujdzcemrvfqrtvzgmifdgpduwcvxfachgzzgrdvzoycucregrfgztcotrjdgwtavagrifggqpeonwdsfgshxfcrsvgoyhviuhddiphdrgqfgrggbefgveheohycuoeedtonsjjhgkjcpgrzzo\n"
     ]
    }
   ],
   "source": [
    "msg2origin = \"\"\n",
    "sizemsg2 = 0\n",
    "\n",
    "for i in msg2:\n",
    "    msg2origin += chr(i+ord('`'))\n",
    "    sizemsg2 += 1\n",
    "    \n",
    "print(msg2origin)"
   ]
  },
  {
   "cell_type": "code",
   "execution_count": 42,
   "id": "07115bdd",
   "metadata": {},
   "outputs": [
    {
     "name": "stdout",
     "output_type": "stream",
     "text": [
      "[1000, 44, 34, 48, 37, 73, 39, 37, 44, 40, 68, 37, 41, 39, 42, 69, 40, 36, 49, 32, 74, 44, 34, 44, 37, 73, 33, 36, 45, 36, 72, 38, 43, 47, 59, 64, 39, 42, 33, 46, 64, 33, 38, 29, 37, 62, 35, 35, 34, 34, 94, 39, 37, 36, 35, 85, 36, 42, 32, 36, 84, 37, 32, 35, 43, 70, 37, 41, 43, 36, 66, 33, 45, 40, 35, 69, 37, 42, 46, 34, 63, 34, 45, 38, 26, 77, 33, 38, 40, 39, 73, 38, 35, 34, 30, 69, 47, 43, 29, 31, 65, 33, 34, 31, 40, 77, 27, 37, 41, 39, 70, 28, 38, 40, 20, 62, 26, 35, 38, 26, 57, 30, 27, 38, 34, 90, 41, 45, 41, 35, 55, 33, 39, 33, 38, 57, 33, 46, 41, 36, 57, 36, 37, 32, 28, 49, 29, 39, 44, 28, 64, 33, 34, 37, 20, 58, 31, 33, 28, 35, 57, 34, 38, 38, 27, 49, 24, 25, 37, 34, 62, 30, 19, 36, 35, 58, 29, 33, 26, 28, 60, 27, 28, 25, 22, 60, 38, 36, 33, 30, 67, 29, 42, 37, 36, 56, 37, 35, 33, 42, 61, 24, 35, 26, 23, 63, 31, 36, 36, 23, 59, 30, 20, 34, 15, 62, 35, 20, 23, 42, 52, 32, 34, 35, 27, 44, 28, 32, 34, 18, 64, 41, 21, 35, 28, 58, 24, 25, 28, 33, 51, 33, 31, 30, 27, 59, 30, 24, 33, 27, 55, 27, 22, 36, 19, 63, 32, 21, 37, 33, 57, 27, 31, 30, 37, 73, 32, 35, 21, 28, 54, 29, 32, 28, 26, 60, 32, 30, 26, 33, 63, 31, 24, 28, 21, 48, 27, 21, 29, 23, 42, 25, 34, 30, 39, 46, 28, 35, 38, 32, 56, 32, 20, 30, 16, 62, 28, 21, 28, 22, 42, 25, 26, 18, 25, 49, 33, 39, 23, 34, 63, 29, 32, 34, 22, 63, 27, 29, 27, 25, 46, 32, 27, 25, 23, 61, 30, 25, 28, 22, 61, 29, 17, 25, 24, 44, 25, 35, 28, 24, 59, 26, 25, 27, 17, 52, 32, 22, 27, 23, 47, 28, 28, 26, 24, 45, 35, 19, 23, 22, 30, 24, 24, 23, 23, 64, 26, 22, 26, 27, 37, 18, 20, 24, 36, 43, 22, 25, 27, 18, 46, 21, 31, 28, 23, 46, 21, 22, 22, 22, 35, 25, 30, 18, 18, 51, 18, 36, 30, 20, 54, 20, 25, 24, 21, 35, 28, 22, 27, 22, 37, 31, 22, 26, 25, 54, 21, 21, 29, 20, 53, 16, 25, 21, 25, 38, 18, 25, 25, 15, 31, 18, 17, 27, 22, 32, 23, 26, 19, 14, 46, 16, 21, 29, 30, 36, 22, 23, 19, 15, 47, 17, 22, 17, 23, 40, 25, 21, 21, 26, 37, 22, 14, 22, 21, 42, 13, 15, 24, 25, 51, 15, 16, 16, 22, 36, 11, 24, 21, 18, 39, 15, 15, 19, 18, 30, 13, 18, 26, 11, 32, 15, 18, 27, 21, 35, 10, 18, 20, 16, 38, 20, 15, 20, 22, 34, 20, 16, 20, 17, 38, 18, 18, 20, 23, 33, 22, 19, 18, 14, 27, 26, 17, 13, 18, 46, 14, 23, 20, 16, 26, 15, 20, 15, 17, 33, 18, 16, 16, 15, 25, 20, 14, 18, 21, 38, 17, 14, 22, 22, 32, 11, 21, 17, 11, 29, 17, 10, 17, 16, 28, 15, 19, 18, 15, 18, 12, 15, 18, 15, 30, 21, 12, 13, 17, 37, 10, 18, 18, 12, 24, 19, 20, 7, 21, 30, 15, 12, 20, 19, 24, 18, 13, 13, 18, 30, 19, 19, 21, 11, 30, 22, 24, 12, 11, 39, 21, 23, 7, 13, 27, 19, 16, 16, 18, 21, 11, 19, 12, 15, 26, 13, 17, 13, 9, 22, 15, 12, 19, 14, 26, 8, 8, 15, 12, 40, 15, 11, 14, 10, 32, 14, 12, 7, 15, 29, 21, 9, 16, 14, 28, 11, 12, 12, 12, 21, 20, 19, 7, 11, 27, 12, 9, 8, 12, 21, 14, 13, 8, 11, 19, 14, 9, 14, 15, 24, 12, 12, 12, 9, 14, 8, 11, 13, 14, 28, 11, 9, 11, 12, 26, 10, 11, 19, 8, 24, 15, 14, 9, 8, 23, 14, 11, 9, 6, 27, 9, 11, 7, 9, 18, 12, 7, 4, 10, 18, 8, 10, 10, 15, 17, 15, 11, 14, 10, 22, 13, 15, 10, 11, 22, 9, 18, 8, 12, 20, 14, 7, 7, 13, 21, 10, 11, 4, 5, 24, 10, 6, 7, 9, 17, 8, 10, 7, 10, 18, 2, 9, 10, 11, 18, 10, 10, 14, 6, 10, 5, 12, 8, 9, 13, 10, 10, 6, 10, 19, 5, 8, 12, 13, 9, 8, 10, 11, 7, 13, 10, 4, 4, 8, 16, 9, 6, 9, 10, 6, 8, 7, 5, 13, 21, 9, 5, 8, 6, 16, 7, 12, 10, 8, 14, 12, 9, 7, 12, 18, 3, 11, 9, 8, 15, 5, 5, 5, 7, 13, 5, 6, 6, 6, 13, 11, 6, 10, 9, 13, 9, 4, 5, 4, 10, 9, 5, 3, 6, 11, 4, 6, 4, 8, 13, 9, 4, 4, 8, 10, 6, 5, 5, 5, 9, 8, 3, 3, 3, 8, 3, 5, 6, 8, 11, 4, 5, 4, 11, 13, 4, 4, 5, 6, 11, 1, 3, 6, 6, 5, 5, 3, 3, 6, 12, 3, 5, 7, 6, 14, 8, 2, 5, 5, 12, 3, 2, 2, 5, 5, 4, 4, 2, 4, 7, 6, 6, 3, 4, 8, 2, 0, 3, 3, 6, 5, 4, 3, 3, 11, 4, 4, 5, 4, 5, 1, 4, 1, 3, 4, 2, 2, 0, 1, 5, 0, 0, 0, 1, 3, 1, 1, 3, 1, 7, 3, 3, 4, 1, 5, 0, 2, 1, 1, 2, 2, 1, 0, 2, 11, 1, 1, 2, 0, 0, 0, 0, 0, 0, 0, 1, 0, 1, 0, 0, 1, 0, 1, 0, 0, 0, 0, 0, 0]\n"
     ]
    }
   ],
   "source": [
    "coincidence = [0 for _ in range(len(msg2origin))]\n",
    "\n",
    "for i in range(len(msg2origin)):\n",
    "    for j, k in zip(msg2origin,msg2origin[i::]):\n",
    "        if(j == k):\n",
    "            coincidence[i] += 1\n",
    "            \n",
    "print(coincidence)"
   ]
  },
  {
   "cell_type": "code",
   "execution_count": 43,
   "id": "1cbc24ae",
   "metadata": {},
   "outputs": [
    {
     "name": "stdout",
     "output_type": "stream",
     "text": [
      "['c', 'e', 'p', 'r', 'o']\n"
     ]
    }
   ],
   "source": [
    "#frequency between biggest coincidences is equal to 5, so key has size 5\n",
    "\n",
    "key = ['_' for _ in range(5)]\n",
    "\n",
    "for i in range(5):\n",
    "    total = 0\n",
    "    count = [0 for _ in range(26)]\n",
    "    \n",
    "    for j, k in enumerate(msg2origin):\n",
    "        if j % 5 == i:\n",
    "            total += 1\n",
    "            count[ord(k) - ord('a')] += 1\n",
    "                \n",
    "    freq = [float(c / total) for c in count]\n",
    "\n",
    "    maxNumber = 0\n",
    "    for j in range(26):\n",
    "        s = 0\n",
    "        for k in range(26):\n",
    "            s += freq[(k + j) % len(count)] * Stats[chr(ord('a') + k)]\n",
    "            if maxNumber < s:\n",
    "                maxNumber = s\n",
    "                key[i] = chr(ord('a') + j)\n",
    "\n",
    "print(key)"
   ]
  },
  {
   "cell_type": "code",
   "execution_count": 44,
   "id": "78ed33c4",
   "metadata": {},
   "outputs": [
    {
     "name": "stdout",
     "output_type": "stream",
     "text": [
      "utrosdaorquestragulbenkianorquestradoteatronacionaldescarloseexorquestrasdardpexecutamoprogramaquetemcomoestrelaconvidadaacontraltonorteamericanasusancourtarodagemdofilmeintifadadorealizadortunisianoridhaelbahivaicomecarnosproximosmesesanunciouocineastaoargumentofoivariasvezesmodificadodevidoaevolucaodaintifadaeasconsequenciasdacrisedogolfosobreaquestaopalestinianaoprojectoquedeveriaserfinanciadopeloiraqueeokuwaitseraafinalumacoproducaotunisianaespanholaefrancesaofilmeenaverdadeaprocuracontinuadeumapatriaperdidaapalestinaatravesdascronicasdaintifadaexplicouocineastaconsideraqueoaparecimentodoinstitutoportuguesdosmuseusimplicamexidasemquestoesdepessoalsemqueossindicatostenhamsidoouvidoseterminadizendoqueosecretariodeestadodaculturaproduzinstitutossentadoasecretariaedecostasvoltadasparaarealidadequepretendedirigiropresidentedarepublicamariosoaresfoiociceroneeleitopelodiariomadrilenoelmundopararevelarnumsuplementosemanalsobreosgrandesmuseusdomundoasobrasexpostasnafundacaocaloustegulbenkia\n"
     ]
    }
   ],
   "source": [
    "msg2final = \"\"\n",
    "\n",
    "for i in range(len(msg2origin)):\n",
    "    msg2final += chr(ord('a') + (((ord(msg2origin[i]) - ord('a')) - (ord(key[i % 5]) - ord('a'))) % 26))\n",
    "\n",
    "print(msg2final)"
   ]
  },
  {
   "cell_type": "markdown",
   "id": "c12b151e",
   "metadata": {},
   "source": [
    "utros da orquestra gulbenkian orquestra do teatro nacional de s carlos e ex orquestras da rdp executam o programa que tem como estrela convidada a contralto norte americana susan court a rodagem do filme intifada do realizador tunisiano ridhael bahi vai comecar nos proximos meses anunciou o cineasta o argumento foi varias vezes modificado devido a evolucao da intifada e as consequencias da crise do golfo sobre a questao palestiniana o projecto que deveria ser financiado pelo iraque e o kuwait sera afinal uma coproducao tunisiana espanhola e francesa o filme e na verdade a procura continua de uma patria perdida a palestina atraves das cronicas da intifada explicou o cineasta considera que o aparecimento do instituto portugues dos museus implicam ex ida sem questoes de pessoal sem que os sindicatos tenhams ido ouvidos e termina dizendo que o secretario de estado da cultura produz institutos sentado a secretaria e de costas voltadas para a realidade que pretende dirigir o presidente da republica mario soares foi o cicerone eleito pelo diario madrileno el mundo para revelar num suplemento semanal sobre os grandes museus do mundo a sobras expostas na fundacao calouste gulbenkia"
   ]
  },
  {
   "cell_type": "markdown",
   "id": "bcbe2374",
   "metadata": {},
   "source": [
    "## 3 - Size of the key\n",
    "\n",
    "If the size of the cryptogram is kept as constant, the dificulty (on average) increases with the size of the key. \n",
    "\n",
    "In \"msg3\" a little more dificult to break cryptogram similar to \"msg2\" is here for you to try to crack."
   ]
  },
  {
   "cell_type": "code",
   "execution_count": 45,
   "id": "a15503f7",
   "metadata": {},
   "outputs": [
    {
     "name": "stdout",
     "output_type": "stream",
     "text": [
      "vglrfyqcpndpkruwpoglhelfkrfkozuoordqfvcanpkxrqgntljxozicvrderpverhckxceergvhlmeyqrrrduvdxxcidmdafgvirvpnryrntwznlygmwyvbtlvvxygzlldathzjxzouvahauhlsjdnbrcvqvfffqjuoorungdjkxifirtdyfuuwjdnbrcvqvfffqjulhelfkdugbhqwdqkscrnvbmgalqwblxduozuwlkhakruwmjtwhlwbvpiwiveuryrnerrfqztcrpvvkxrfajuyhkpvcfffqjuyqoxnewfirzcmsprizvfwpycwlqicrurjfneivbhpihuaqjxyqalqfhgsovcwrzhekxisazoyqmvirozspycwdpwrzurvboknxjrfrwzfddtupmvzzoygbnfyfmqgfvegoznuwmuvfrelbhfcysotrgfwjkcllqdbijrffucwdmsnidruljryuyfnfhuwpzpprjyvdhellvhcukddlhrlbvqzlldyuhrwsjnofyrqrhtgkjocdnrekxxmbncmhpdveicmbiecdbdcfudwadfuvkravwrjfvuyrpfndhelxdulhqwezwznxnsohbhivurgpztnrkdqrvgsovtyhqwnshcwzztivcthzoztodqmpyfefhtgkjocfmvrtuzsoxqhggfbvvgjlktcdqsnidwszdncwyunvqkjxycxhnrekxxsiiqmpcdafyfhxixuljdatdimjvqjdqroihrsdgqgdcdfzdwvbkqcvqherwisknhiukdqrhdzlgfcqesnidrsozccqbxfkuzsajilxnrffqrwlmguupdaaruwmvtnlalcrffwpyqmdeobdhisajuxhkdqvlisavuiqyhrjwrwjhclffdqvdtgoyqwrkxztrdmkdeugmgnjresbdpphqwvdhellnqwugwrilfvbktismupzresidfugcibzhjlxwgfhalqfdgsooklgcdirozs\n"
     ]
    }
   ],
   "source": [
    "msg3origin = \"\"\n",
    "sizemsg3 = 0\n",
    "\n",
    "for i in msg3:\n",
    "    msg3origin += chr(i+ord('`'))\n",
    "    sizemsg3 += 1\n",
    "    \n",
    "print(msg3origin)"
   ]
  },
  {
   "cell_type": "code",
   "execution_count": 46,
   "id": "2462edfc",
   "metadata": {},
   "outputs": [
    {
     "name": "stdout",
     "output_type": "stream",
     "text": [
      "[1000, 40, 32, 37, 36, 38, 29, 38, 38, 42, 48, 31, 87, 24, 36, 40, 41, 50, 39, 49, 32, 44, 48, 37, 82, 36, 43, 34, 26, 36, 29, 38, 29, 31, 40, 35, 88, 28, 46, 35, 34, 40, 27, 42, 38, 36, 42, 29, 80, 28, 41, 26, 34, 36, 30, 45, 36, 34, 40, 22, 79, 35, 42, 33, 35, 42, 34, 37, 41, 38, 33, 21, 74, 21, 47, 27, 36, 28, 34, 42, 27, 36, 49, 35, 70, 28, 49, 29, 29, 33, 29, 39, 33, 44, 37, 28, 77, 37, 44, 32, 39, 33, 30, 39, 33, 35, 40, 32, 81, 28, 38, 29, 35, 42, 22, 37, 30, 24, 37, 23, 70, 36, 36, 33, 26, 36, 31, 42, 28, 34, 45, 32, 85, 25, 57, 36, 30, 40, 30, 34, 25, 30, 35, 26, 63, 32, 38, 31, 30, 38, 37, 43, 29, 31, 39, 29, 58, 35, 31, 38, 23, 38, 28, 25, 27, 30, 31, 21, 68, 24, 43, 37, 35, 39, 22, 31, 31, 27, 33, 27, 80, 29, 33, 29, 28, 26, 25, 27, 25, 42, 30, 25, 58, 26, 27, 41, 34, 30, 29, 34, 39, 29, 39, 20, 60, 19, 44, 20, 29, 38, 23, 24, 36, 24, 32, 20, 63, 22, 34, 26, 25, 34, 37, 43, 17, 29, 19, 22, 73, 23, 38, 29, 26, 39, 32, 27, 27, 31, 37, 23, 67, 28, 43, 35, 27, 39, 26, 27, 23, 24, 34, 21, 77, 24, 29, 30, 24, 50, 27, 27, 27, 31, 27, 28, 68, 22, 38, 26, 32, 31, 22, 28, 29, 32, 36, 28, 58, 18, 25, 31, 27, 26, 21, 29, 28, 31, 26, 20, 67, 26, 32, 32, 20, 33, 27, 23, 18, 36, 35, 23, 65, 24, 37, 28, 25, 39, 28, 21, 20, 28, 31, 19, 53, 25, 30, 20, 21, 22, 28, 35, 29, 25, 28, 26, 53, 19, 23, 19, 15, 27, 26, 28, 26, 18, 19, 28, 62, 19, 35, 17, 21, 26, 25, 29, 18, 26, 22, 15, 49, 18, 30, 28, 25, 23, 30, 26, 15, 26, 27, 25, 45, 25, 28, 29, 19, 23, 26, 37, 24, 37, 38, 19, 63, 32, 21, 24, 23, 25, 18, 32, 23, 23, 35, 18, 59, 18, 29, 25, 22, 27, 19, 30, 16, 30, 23, 23, 43, 19, 22, 25, 23, 28, 19, 26, 12, 21, 35, 17, 32, 18, 39, 28, 22, 26, 19, 35, 18, 21, 18, 20, 40, 16, 22, 29, 20, 23, 20, 23, 24, 14, 23, 14, 44, 21, 34, 21, 16, 25, 19, 21, 11, 18, 27, 20, 54, 20, 13, 22, 10, 17, 21, 27, 20, 23, 26, 28, 38, 13, 42, 14, 18, 19, 15, 28, 14, 20, 20, 17, 35, 20, 26, 14, 14, 31, 24, 36, 20, 15, 22, 19, 39, 11, 26, 18, 17, 25, 18, 21, 19, 24, 24, 15, 36, 19, 25, 20, 22, 25, 16, 21, 16, 22, 28, 19, 40, 11, 23, 17, 20, 13, 19, 18, 16, 24, 35, 16, 36, 13, 22, 17, 18, 18, 11, 19, 15, 17, 27, 10, 42, 13, 30, 29, 11, 13, 16, 21, 14, 24, 22, 17, 40, 21, 14, 12, 19, 11, 14, 21, 16, 26, 13, 12, 43, 11, 24, 17, 11, 19, 9, 21, 14, 18, 20, 20, 35, 16, 17, 23, 12, 16, 13, 14, 14, 14, 14, 20, 31, 8, 17, 14, 13, 20, 14, 22, 15, 13, 19, 14, 41, 18, 19, 11, 10, 22, 14, 26, 14, 14, 15, 14, 34, 8, 16, 14, 11, 14, 11, 19, 18, 13, 12, 13, 33, 9, 18, 19, 9, 17, 11, 16, 11, 17, 23, 7, 34, 10, 17, 12, 10, 16, 10, 13, 9, 22, 20, 14, 30, 14, 17, 12, 9, 15, 16, 15, 13, 19, 16, 13, 34, 10, 12, 13, 11, 19, 17, 14, 9, 9, 17, 15, 24, 13, 16, 8, 14, 13, 5, 9, 12, 12, 18, 14, 18, 12, 14, 14, 15, 16, 17, 11, 8, 10, 11, 8, 15, 13, 15, 13, 9, 14, 6, 21, 11, 16, 13, 9, 25, 8, 16, 18, 14, 10, 15, 15, 8, 13, 12, 2, 30, 9, 9, 13, 8, 10, 7, 13, 10, 10, 10, 2, 27, 9, 13, 14, 11, 16, 8, 14, 6, 10, 10, 10, 20, 5, 7, 13, 10, 15, 16, 14, 8, 12, 12, 5, 21, 9, 13, 13, 8, 12, 5, 14, 5, 7, 9, 10, 17, 7, 13, 7, 12, 9, 6, 10, 3, 8, 10, 8, 7, 4, 7, 12, 8, 18, 9, 6, 11, 16, 7, 7, 22, 7, 14, 8, 10, 9, 7, 10, 3, 11, 8, 8, 14, 4, 9, 10, 7, 6, 3, 5, 9, 10, 6, 5, 16, 7, 11, 8, 8, 8, 6, 6, 5, 7, 5, 2, 11, 4, 6, 10, 9, 8, 7, 10, 4, 11, 12, 9, 18, 7, 13, 8, 1, 7, 7, 4, 3, 4, 9, 5, 13, 3, 8, 4, 8, 8, 6, 5, 6, 10, 6, 2, 10, 5, 8, 5, 6, 6, 2, 5, 3, 9, 5, 5, 12, 5, 3, 6, 4, 3, 5, 7, 4, 9, 6, 4, 6, 2, 5, 6, 5, 4, 3, 5, 2, 2, 2, 5, 6, 6, 4, 4, 6, 4, 2, 5, 2, 4, 5, 3, 8, 4, 4, 5, 5, 5, 2, 5, 2, 0, 3, 1, 2, 2, 8, 4, 1, 4, 2, 6, 2, 2, 4, 2, 4, 1, 3, 6, 3, 1, 3, 4, 3, 2, 1, 1, 5, 3, 3, 1, 2, 3, 2, 4, 3, 2, 2, 1, 5, 0, 1, 3, 1, 4, 0, 2, 3, 2, 3, 0, 5, 2, 3, 3, 0, 1, 2, 1, 1, 3, 0, 2, 2, 1, 1, 2, 0, 2, 1, 0, 3, 0, 0, 1, 1, 1, 1, 0, 0, 1, 0, 1, 0, 1, 0, 0, 0, 0, 0, 0]\n"
     ]
    }
   ],
   "source": [
    "coincidence = [0 for _ in range(len(msg3origin))]\n",
    "\n",
    "for i in range(len(msg3origin)):\n",
    "    for j, k in zip(msg3origin,msg3origin[i::]):\n",
    "        if(j == k):\n",
    "            coincidence[i] += 1\n",
    "            \n",
    "print(coincidence)"
   ]
  },
  {
   "cell_type": "code",
   "execution_count": 47,
   "id": "84edfbee",
   "metadata": {},
   "outputs": [
    {
     "name": "stdout",
     "output_type": "stream",
     "text": [
      "['r', 'd', 'r', 's', 'x', 'v', 'c', 'u', 'd', 'y', 'd', 'n']\n"
     ]
    }
   ],
   "source": [
    "#frequency between biggest coincidences is equal to 12, so key has size 12\n",
    "\n",
    "key = ['_' for _ in range(12)]\n",
    "\n",
    "for i in range(12):\n",
    "    total = 0\n",
    "    count = [0 for _ in range(26)]\n",
    "    \n",
    "    for j, k in enumerate(msg3origin):\n",
    "        if j % 12 == i:\n",
    "            total += 1\n",
    "            count[ord(k) - ord('a')] += 1\n",
    "                \n",
    "    freq = [float(c / total) for c in count]\n",
    "\n",
    "    maxNumber = 0\n",
    "    for j in range(26):\n",
    "        s = 0\n",
    "        for k in range(26):\n",
    "            s += freq[(k + j) % len(count)] * Stats[chr(ord('a') + k)]\n",
    "            if maxNumber < s:\n",
    "                maxNumber = s\n",
    "                key[i] = chr(ord('a') + j)\n",
    "\n",
    "print(key)"
   ]
  },
  {
   "cell_type": "code",
   "execution_count": 48,
   "id": "d53e1248",
   "metadata": {},
   "outputs": [
    {
     "name": "stdout",
     "output_type": "stream",
     "text": [
      "eduzidoimpactodesteregistoosresultadosliquidosdacisfregistaramemumaquebradeporcentoemrelacaoaoanodequantoaoactivodestasociedadefinanceiraemascendeuamilhoesdecontosultrapassandoovalordemilhoesdecontosregistadoemocashflowderegistouumcrescimentodeporcentoemrelacaoaoanoanteriorsituandoseemmilcontosenquantoqueasprovisoesdacisfparariscosdecreditovencidoeparaacoberturademenosvaliasdacarteiradetitulosatingiramosmilhoesdecontosnorelatorioontemdivulgadoemparisaorganizacaoparaacooperacaoedesenvolvimentoafirmaqueateaofinaldeaevolucaodaeconomiaportuguesaserainfluenciadapormedidasmonetariaseorcamentaisrestritivasquedeveraosertomadasparareestabelecerosequilibriosmacroeconomicosecriarcondicoespropriasparafacilitaraentradadeportugalnosmeanovopanvailancarumaopasobreaaglomaeasiafdepoisseratransformadaemholdingparaaareaindustriadogruposonaeorearranjodeparticipacoesdosaglomeradosdemadeiradasonaeestaemmarchadeacordocomumcomunicadodasonaeinvestimentosocriteriodeproporcionalidadefoiestabelecidoapartirdeavalia\n"
     ]
    }
   ],
   "source": [
    "msg3final = \"\"\n",
    "\n",
    "for i in range(len(msg3origin)):\n",
    "    msg3final += chr(ord('a') + (((ord(msg3origin[i]) - ord('a')) - (ord(key[i % 12]) - ord('a'))) % 26))\n",
    "\n",
    "print(msg3final)"
   ]
  },
  {
   "cell_type": "markdown",
   "id": "b9bfd217",
   "metadata": {},
   "source": [
    "eduzido impacto deste registo os resultados liquidos da cisf registaram em uma quebra de por cento em relacao ao ano de quanto ao activo desta sociedade financeira em ascendeu a milhoes de contos ultrapassando o valor de milhoes de contos registado em o cashflow de registou um crescimento de por cento em relacao ao ano anterior situando se em mil contos enquanto que as provisoes da cisf para riscos de credito vencido e para a cobertura de menos valias da carteira de titulos atingiram os milhoes de contos no relatorio ontem divulgado em paris a organizacao para a cooperacao e desenvolvimento afirma que ate ao final de a evolucao da economia portuguesa sera influenciada por medidas monetarias e orcamentais restritivas que deverao ser tomadas para reestabelecer os equilibrios macroeconomicos e criar condicoes proprias para facilitar a entrada de portugal nos (me a novo panvailanca ruma o pa sobre a agloma e asia f)(???) depois sera transformada em holding para a area industria do grupo sonae o rearranjo de participacoes dos aglomerados de madeira da sonae esta em marcha de acordo comum comunicado da sonae investimentos o criterio de proporcionalidade foi estabelecido a partir de avalia"
   ]
  },
  {
   "cell_type": "markdown",
   "id": "031b060a",
   "metadata": {},
   "source": [
    "## 4 - A more chalenging Vigenére\n",
    "\n",
    "In \"msg4\" is the result of applying another Vigenère but the result was embedded in a finite field, and thus the order of the original alphabet was not preserved.\n",
    "\n",
    "\n",
    "This means that the signature of frequencies of letters **will not be preserved** in the cryptogram, not even inside each  $S_i=\\{C_{pi+j}\\mid i\\in\\mathbb{N}\\}_{j<p}$. But it will be the same for all the $S_i$. For example. If $x$ and $y$ are images of two very frequent letters in the plaintext (say $a$ and $b$), then their distance will be preserved in the frequency bar-graph in every $S_i$. This sould allow you to crack this much more challenging cryptogram.\n",
    "\n",
    "**This cryptogram is not mandatory** for the current assignment. It is here for the more courageous to measure their own strength as crackers, and to understand that, altough \"easy\" to crack, these cyphers may need a good amount of preserverance to defeat (even quite simple ones like this)."
   ]
  }
 ],
 "metadata": {
  "kernelspec": {
   "display_name": "SageMath 9.5",
   "language": "sage",
   "name": "sagemath"
  },
  "language_info": {
   "codemirror_mode": {
    "name": "ipython",
    "version": 3
   },
   "file_extension": ".py",
   "mimetype": "text/x-python",
   "name": "python",
   "nbconvert_exporter": "python",
   "pygments_lexer": "ipython3",
   "version": "3.10.6"
  }
 },
 "nbformat": 4,
 "nbformat_minor": 5
}
