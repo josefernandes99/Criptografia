{
 "cells": [
  {
   "cell_type": "code",
   "execution_count": 1,
   "id": "be523c45",
   "metadata": {},
   "outputs": [],
   "source": [
    "import os\n",
    "import sys\n",
    "import binascii\n",
    "from binascii import hexlify\n",
    "from cryptography.hazmat.primitives.ciphers import Cipher, algorithms, modes\n",
    "from cryptography.hazmat.primitives.padding import PKCS7\n",
    "from cryptography.hazmat.backends import default_backend"
   ]
  },
  {
   "cell_type": "code",
   "execution_count": 2,
   "id": "9247152e",
   "metadata": {},
   "outputs": [],
   "source": [
    "# Python Module ciphersuite\n",
    "# Use crypto random generation to get a key with length n\n",
    "def gen():\n",
    "    rkey = bytearray(os.urandom(16))\n",
    "    for i in range(16): rkey[i] = rkey[i] & 1\n",
    "    return bytes(rkey)\n",
    "\n",
    "# Bitwise XOR operation.\n",
    "def enc(k, m):\n",
    "    cipher = Cipher(algorithms.AES(k), modes.ECB())\n",
    "    encryptor = cipher.encryptor()\n",
    "    cph = b\"\"\n",
    "    for ch in m:\n",
    "        cph += encryptor.update((ch*16).encode())\n",
    "    cph += encryptor.finalize()\n",
    "    return cph\n",
    "\n",
    "\n",
    "# Reverse operation\n",
    "def dec(k, c):\n",
    "    assert len(c) % 16 == 0\n",
    "    cipher = Cipher(algorithms.AES(k), modes.ECB())\n",
    "    decryptor = cipher.decryptor()\n",
    "    blocks = len(c)//16\n",
    "    msg = b\"\"\n",
    "    for i in range(0,(blocks)):\n",
    "        msg+=decryptor.update(c[i*16:(i+1)*16])\n",
    "        msg=msg[:-15]\n",
    "    msg += decryptor.finalize()\n",
    "    return msg"
   ]
  },
  {
   "cell_type": "markdown",
   "id": "aa5af4fb",
   "metadata": {},
   "source": [
    "# 1."
   ]
  },
  {
   "cell_type": "code",
   "execution_count": 7,
   "id": "e2589d1f",
   "metadata": {},
   "outputs": [
    {
     "name": "stdout",
     "output_type": "stream",
     "text": [
      "0\n",
      "Key: b'170255e3abdcc0f91cf4ff6634ca1809'\n",
      "Key: b'00010101000101010101000001000101'\n"
     ]
    }
   ],
   "source": [
    "textbin = b'o colectivo que ainda inclui a sexy tanya donelly tambem das breeders na segunda guitarra e a seccao ritmica masculina constituida por fred abong e david narcizo os rapazes de servico as duas mocas os desenvolvimentos da situacao no golfo transformaram a programada visita de douglas hurd a lisboa numa rapida passagem pela capital portuguesa na conferencia de imprensa que se seguiu a reuniao como seu homologo deus pinheiro o unico compromisso de hurd em portugal depois do cancelamento dos encontros com mario soares e cavaco silva o ministro britanico revelou algum pessimismo sobre o conflito no golfo douglas hurd considerou muito confuso o discurso de saddam hussein disse nao confiar na palavra do presidente iraquiano e reafirmou a conviccao de que um cessar fogo so sera possivel quando o iraque aceitar claramente todas as resolucoes do conselho de seguranca da onu e retirar do kuwait abandonando armas e equipamento fontes do pentagono citadas por cadeias de televisao norte americanas declararam hoje de madrugada que as forcas aliadas no iraque e no kuwait aumentaram o ritmo da sua ofensiva ja depois de o iraque ter anunciado uma inesperada ordem de retirada ao seu e'\n",
    "text = 'o colectivo que ainda inclui a sexy tanya donelly tambem das breeders na segunda guitarra e a seccao ritmica masculina constituida por fred abong e david narcizo os rapazes de servico as duas mocas os desenvolvimentos da situacao no golfo transformaram a programada visita de douglas hurd a lisboa numa rapida passagem pela capital portuguesa na conferencia de imprensa que se seguiu a reuniao como seu homologo deus pinheiro o unico compromisso de hurd em portugal depois do cancelamento dos encontros com mario soares e cavaco silva o ministro britanico revelou algum pessimismo sobre o conflito no golfo douglas hurd considerou muito confuso o discurso de saddam hussein disse nao confiar na palavra do presidente iraquiano e reafirmou a conviccao de que um cessar fogo so sera possivel quando o iraque aceitar claramente todas as resolucoes do conselho de seguranca da onu e retirar do kuwait abandonando armas e equipamento fontes do pentagono citadas por cadeias de televisao norte americanas declararam hoje de madrugada que as forcas aliadas no iraque e no kuwait aumentaram o ritmo da sua ofensiva ja depois de o iraque ter anunciado uma inesperada ordem de retirada ao seu e'\n",
    "output = \"ciphertext.bin\"\n",
    "print(len(textbin)%16)\n",
    "\n",
    "key = os.urandom(16)\n",
    "cipher = Cipher(algorithms.AES(key), modes.ECB())\n",
    "encryptor = cipher.encryptor()\n",
    "encrypt = encryptor.update(textbin) + encryptor.finalize()\n",
    "cphFile = open(output, \"wb\")\n",
    "cphFile.write(encrypt)\n",
    "key = hexlify(key)\n",
    "print(f'Key: {key}')\n",
    "\n",
    "key = gen()\n",
    "encrypt = enc(key, text)\n",
    "cphFile = open(output, \"wb\")\n",
    "cphFile.write(encrypt)\n",
    "cphFile.close()\n",
    "print(f'Key: {hexlify(key)}')\n"
   ]
  },
  {
   "cell_type": "markdown",
   "id": "6571f839",
   "metadata": {},
   "source": [
    "# 2."
   ]
  },
  {
   "cell_type": "raw",
   "id": "2f540ec5",
   "metadata": {},
   "source": [
    "key = key.decode('UTF-8')\n",
    "file = output\n",
    "command = os.popen(f'openssl enc -aes-128-ecb -nopad -d -K {key} -in {file}')\n",
    "output = stream.read()\n",
    "\n",
    "cphFile = open(output, \"rb\")\n",
    "msg2 = cphFile.read()\n",
    "cphFile.close()\n",
    "msg = dec(key, msg2)\n",
    "print(msg)"
   ]
  },
  {
   "cell_type": "markdown",
   "id": "0d05fe51",
   "metadata": {},
   "source": [
    "# 5."
   ]
  },
  {
   "cell_type": "code",
   "execution_count": 3,
   "id": "ec7615bd",
   "metadata": {},
   "outputs": [
    {
     "name": "stdout",
     "output_type": "stream",
     "text": [
      "Key: 0111100111010100, Msg: aporumoriginalcontratoqueserepetehaanosahmadsaidaboukteshdeanospaidefilhoseguardanocturnonohospitalbikourholimdejerusalemhaanosumrabinoconvocoumeexplicandomeestespormenoresdareligiaojudaicaperguntoumeentaoseeuaceitavaassinarumacordoficticioparacomprartodososbenseeuaceiteiregistemsidoumaagradavelsurpresaetemsobretudoumacaracteristicaqueodistingueemuitodificildebaterquandooavancadolheapareceisoladoobragamelhoroumuitodesdeasuachegadavitorduarteumcentraldemarcacaoquesabeosrudimentosdaposicaoeemuitodificildebaternoslancesporaltoduroagressivofaltalheacapacidadetecnicaquelhepermitiriaoutradimensaodejogadorvitorbaiacontinuaaserumguardaredesemcrescimentooqueeinevitaveldadaasuaidadenosultimostempospareceureadquirirumaestabilidadequeemcertomomentopareceuterperdidoaloisionaoconseguiudesfazerasduvidasquesempreexistiramnasantassobreoseuvaloroutalvezmaiscorrectamentesobreasuaformadeactuartemjogosemquedaideiadedescolarmasnoutroslimpezasnaeconomiaestasoperacoessaomaisdemoradasnosultimosanososbancostemseesforcadoporlimpardosse\n"
     ]
    }
   ],
   "source": [
    "def generate_keys(key, n):\n",
    "    if n==16:\n",
    "        keys.append(bytes(key))\n",
    "        return\n",
    "    key1 = key.copy()\n",
    "    key1[n] = 1\n",
    "    generate_keys(key, n+1)\n",
    "    generate_keys(key1, n+1)\n",
    "\n",
    "keys = []\n",
    "generate_keys([0 for _ in range(16)],0)\n",
    "\n",
    "file = open('data.txt', 'r')\n",
    "decrypt = file.read()\n",
    "file.close()\n",
    "hexstring = bytearray.fromhex(decrypt)\n",
    "\n",
    "finalKey = []\n",
    "finalMsg = \"\"\n",
    "\n",
    "for k in keys:\n",
    "    try:\n",
    "        finalKey = \"\".join([str(i) for i in k])\n",
    "        finalMsg = dec(k, hexstring).decode(\"utf-8\")\n",
    "        print(f'Key: {finalKey}, Msg: {finalMsg}')\n",
    "        break;\n",
    "    except:\n",
    "        None\n",
    "    "
   ]
  }
 ],
 "metadata": {
  "kernelspec": {
   "display_name": "Python 3 (ipykernel)",
   "language": "python",
   "name": "python3"
  },
  "language_info": {
   "codemirror_mode": {
    "name": "ipython",
    "version": 3
   },
   "file_extension": ".py",
   "mimetype": "text/x-python",
   "name": "python",
   "nbconvert_exporter": "python",
   "pygments_lexer": "ipython3",
   "version": "3.10.6"
  }
 },
 "nbformat": 4,
 "nbformat_minor": 5
}
