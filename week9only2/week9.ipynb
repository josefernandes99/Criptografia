{
 "cells": [
  {
   "cell_type": "markdown",
   "id": "644ba9d2",
   "metadata": {},
   "source": [
    "# 1."
   ]
  },
  {
   "cell_type": "markdown",
   "id": "3cc61409",
   "metadata": {},
   "source": [
    "48"
   ]
  },
  {
   "cell_type": "markdown",
   "id": "c9caa07a",
   "metadata": {},
   "source": [
    "# 2."
   ]
  },
  {
   "cell_type": "markdown",
   "id": "212f78b2",
   "metadata": {},
   "source": [
    "(725,2881)"
   ]
  },
  {
   "cell_type": "code",
   "execution_count": null,
   "id": "6254ca9e",
   "metadata": {},
   "outputs": [],
   "source": []
  }
 ],
 "metadata": {
  "kernelspec": {
   "display_name": "Python 3 (ipykernel)",
   "language": "python",
   "name": "python3"
  },
  "language_info": {
   "codemirror_mode": {
    "name": "ipython",
    "version": 3
   },
   "file_extension": ".py",
   "mimetype": "text/x-python",
   "name": "python",
   "nbconvert_exporter": "python",
   "pygments_lexer": "ipython3",
   "version": "3.10.6"
  }
 },
 "nbformat": 4,
 "nbformat_minor": 5
}
