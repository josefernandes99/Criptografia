{
 "cells": [
  {
   "cell_type": "markdown",
   "id": "199abae2",
   "metadata": {},
   "source": [
    "# 1."
   ]
  },
  {
   "cell_type": "markdown",
   "id": "13de036b",
   "metadata": {},
   "source": [
    "[5,13,235,345,412,517,621,798,853,991]"
   ]
  },
  {
   "cell_type": "markdown",
   "id": "8c705367",
   "metadata": {},
   "source": [
    "# 2."
   ]
  },
  {
   "cell_type": "markdown",
   "id": "8816c152",
   "metadata": {},
   "source": [
    "## a)"
   ]
  },
  {
   "cell_type": "markdown",
   "id": "ecd9f6b8",
   "metadata": {},
   "source": [
    "Sabendo v a partir do v.c, concatena com k, passando v.k a ser a chave a usar no algoritmo RC4 para decifrar c"
   ]
  },
  {
   "cell_type": "markdown",
   "id": "af4b26f5",
   "metadata": {},
   "source": [
    "## b)"
   ]
  },
  {
   "cell_type": "markdown",
   "id": "4fc5ea4c",
   "metadata": {},
   "source": [
    "Encontrando duas mensagens que comecem com v, sabemos que ambas as mensagens foram encriptadas com a mesma key stream, visto que o único valor aleatorio é o v"
   ]
  },
  {
   "cell_type": "markdown",
   "id": "39806c44",
   "metadata": {},
   "source": [
    "## c)"
   ]
  },
  {
   "cell_type": "markdown",
   "id": "cae0d1ca",
   "metadata": {},
   "source": [
    "2⁴⁰"
   ]
  },
  {
   "cell_type": "markdown",
   "id": "7ac6099f",
   "metadata": {},
   "source": [
    "## e)"
   ]
  },
  {
   "cell_type": "markdown",
   "id": "3ac48c17",
   "metadata": {},
   "source": [
    "Num caso perfeito, 2⁸⁰ - 1. Considerando a possibilidade de repetição do valor v, o numero de mensagens seria menor"
   ]
  }
 ],
 "metadata": {
  "kernelspec": {
   "display_name": "Python 3 (ipykernel)",
   "language": "python",
   "name": "python3"
  },
  "language_info": {
   "codemirror_mode": {
    "name": "ipython",
    "version": 3
   },
   "file_extension": ".py",
   "mimetype": "text/x-python",
   "name": "python",
   "nbconvert_exporter": "python",
   "pygments_lexer": "ipython3",
   "version": "3.10.6"
  }
 },
 "nbformat": 4,
 "nbformat_minor": 5
}
