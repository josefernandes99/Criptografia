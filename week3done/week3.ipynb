{
 "cells": [
  {
   "cell_type": "markdown",
   "id": "07c88497",
   "metadata": {},
   "source": [
    "# 1."
   ]
  },
  {
   "cell_type": "markdown",
   "id": "fa1ef2e6",
   "metadata": {},
   "source": [
    "### Os primeiros 6 valores tem probabilidade 2/2^8, os outros 244 tem probabilidade 1/2^8"
   ]
  },
  {
   "cell_type": "markdown",
   "id": "19060849",
   "metadata": {},
   "source": [
    "### Os primeiros 69 valores tem probabilidade 8/2^64, os outros 181 tem probabilidade 7/2^64"
   ]
  },
  {
   "cell_type": "markdown",
   "id": "1e592eb0",
   "metadata": {},
   "source": [
    "### Estas distribuições não são uniformes. Podemos quantificar a distância da uniformidade verificando o desvio"
   ]
  },
  {
   "cell_type": "markdown",
   "id": "b352a0c1",
   "metadata": {},
   "source": [
    "# 2."
   ]
  },
  {
   "cell_type": "markdown",
   "id": "6aa84130",
   "metadata": {},
   "source": [
    "### 2^8 valores com probabilidade 1/2^8"
   ]
  },
  {
   "cell_type": "markdown",
   "id": "937bfaa0",
   "metadata": {},
   "source": [
    "### 2^8 valores com probabilidade 1/2^8 seguidos de 2^64-2^8 valores com probabilidade 0"
   ]
  },
  {
   "cell_type": "markdown",
   "id": "1331809c",
   "metadata": {},
   "source": [
    "### Estas distribuições são uniformes"
   ]
  },
  {
   "cell_type": "markdown",
   "id": "7e7976ba",
   "metadata": {},
   "source": [
    "# 3."
   ]
  },
  {
   "cell_type": "code",
   "execution_count": 1,
   "id": "c0a67175",
   "metadata": {},
   "outputs": [],
   "source": [
    "import math"
   ]
  },
  {
   "cell_type": "code",
   "execution_count": 2,
   "id": "300eef2a",
   "metadata": {},
   "outputs": [
    {
     "name": "stdout",
     "output_type": "stream",
     "text": [
      "8.0883447530591\n"
     ]
    }
   ],
   "source": [
    "#ex1, lenght = 8\n",
    "\n",
    "t = int(pow(2,8) % 251)\n",
    "prob1 = (1 / 251) + (1 / pow(2,8))\n",
    "prob2 = 1 / 251\n",
    "print(t * (-prob1 * math.log2(prob1)) + (251 - t) * (-prob2 * math.log2(prob2)))"
   ]
  },
  {
   "cell_type": "code",
   "execution_count": 3,
   "id": "51a0518b",
   "metadata": {},
   "outputs": [
    {
     "name": "stdout",
     "output_type": "stream",
     "text": [
      "7.971543553950772\n"
     ]
    }
   ],
   "source": [
    "#ex1, lenght = 64\n",
    "\n",
    "t = int(pow(2,64) % 251)\n",
    "prob1 = (1 / 251) + (1 / pow(2,64))\n",
    "prob2 = 1 / 251\n",
    "print(t * (-prob1 * math.log2(prob1)) + (251 - t) * (-prob2 * math.log2(prob2)))"
   ]
  },
  {
   "cell_type": "code",
   "execution_count": 4,
   "id": "6bb80150",
   "metadata": {},
   "outputs": [
    {
     "name": "stdout",
     "output_type": "stream",
     "text": [
      "8.0\n"
     ]
    }
   ],
   "source": [
    "#ex2, lenght = 8\n",
    "\n",
    "t = int(pow(2,8) % pow(2,8))\n",
    "prob1 = (1 / pow(2,8)) + (1 / pow(2,8))\n",
    "prob2 = 1 / pow(2,8)\n",
    "print(t * (-prob1 * math.log2(prob1)) + (pow(2,8) - t) * (-prob2 * math.log2(prob2)))"
   ]
  },
  {
   "cell_type": "code",
   "execution_count": 5,
   "id": "4797d7fe",
   "metadata": {},
   "outputs": [
    {
     "name": "stdout",
     "output_type": "stream",
     "text": [
      "8.0\n"
     ]
    }
   ],
   "source": [
    "#ex2, lenght = 64\n",
    "\n",
    "t = int(pow(2,64) % pow(2,8))\n",
    "prob1 = (1 / pow(2,8)) + (1 / pow(2,64))\n",
    "prob2 = 1 / pow(2,8)\n",
    "print(t * (-prob1 * math.log2(prob1)) + (pow(2,8) - t) * (-prob2 * math.log2(prob2)))"
   ]
  },
  {
   "cell_type": "markdown",
   "id": "63dc2805",
   "metadata": {},
   "source": [
    "# 4."
   ]
  },
  {
   "cell_type": "code",
   "execution_count": 6,
   "id": "8c02fb44",
   "metadata": {},
   "outputs": [
    {
     "name": "stdout",
     "output_type": "stream",
     "text": [
      "7.934025192674536\n"
     ]
    }
   ],
   "source": [
    "def entropy(p, length):\n",
    "    t = int(pow(2,length) % p)\n",
    "    prob1 = (1 / p) + (1 / pow(2,length))\n",
    "    prob2 = 1 / p\n",
    "    return t * (-prob1 * math.log2(prob1)) + (p - t) * (-prob2 * math.log2(prob2))\n",
    "\n",
    "print(entropy(251,0))"
   ]
  },
  {
   "cell_type": "markdown",
   "id": "73c16bc7",
   "metadata": {},
   "source": [
    "# 5."
   ]
  },
  {
   "cell_type": "markdown",
   "id": "7056a1c9",
   "metadata": {},
   "source": [
    "### A opção -n x limita a leitura de input para x bits (neste caso, 32 bits) e a opção -e y formata o output do comando (neste caso, '1/4 \"%0X\" 1 \"\\n\"')"
   ]
  },
  {
   "cell_type": "markdown",
   "id": "54703ef2",
   "metadata": {},
   "source": [
    "### O comando alternativo que usa /dev/urandom para criar um ficheiro com um número random de bits seria \"dd if=/dev/urandom of=randDD.out count=32 ibs=1 obs=1 cbs=2\""
   ]
  },
  {
   "cell_type": "markdown",
   "id": "20abbc72",
   "metadata": {},
   "source": [
    "### O comando alternativo que usa openSSL para criar um ficheiro com um número random de bits seria \"openssl rand -hex -out opensslrand 32\""
   ]
  },
  {
   "cell_type": "markdown",
   "id": "20ab2502",
   "metadata": {},
   "source": [
    "# 6."
   ]
  },
  {
   "cell_type": "markdown",
   "id": "f6b27d3b",
   "metadata": {},
   "source": [
    "### Usando o comando \"openssl genrsa --passout 'pass:josefernandes99' 2048\" obtemos uma chave de tamanho 2048 com um input da password josefernandes99. Quanto maior o tamanho, maior será o tempo de processamento (como esperado)"
   ]
  },
  {
   "cell_type": "markdown",
   "id": "49fdd7e6",
   "metadata": {},
   "source": [
    "# 7."
   ]
  },
  {
   "cell_type": "markdown",
   "id": "697d850f",
   "metadata": {},
   "source": [
    "### Após pesquisar no google, recomenda o uso do comando \"openssl dhparam 2048\" para gerar parametros random Diffie-Hellman"
   ]
  }
 ],
 "metadata": {
  "kernelspec": {
   "display_name": "Python 3 (ipykernel)",
   "language": "python",
   "name": "python3"
  },
  "language_info": {
   "codemirror_mode": {
    "name": "ipython",
    "version": 3
   },
   "file_extension": ".py",
   "mimetype": "text/x-python",
   "name": "python",
   "nbconvert_exporter": "python",
   "pygments_lexer": "ipython3",
   "version": "3.10.6"
  }
 },
 "nbformat": 4,
 "nbformat_minor": 5
}
