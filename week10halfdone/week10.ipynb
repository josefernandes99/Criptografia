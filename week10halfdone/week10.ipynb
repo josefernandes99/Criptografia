{
 "cells": [
  {
   "cell_type": "markdown",
   "id": "46d86e2a",
   "metadata": {},
   "source": [
    "# 1."
   ]
  },
  {
   "cell_type": "markdown",
   "id": "c929adc4",
   "metadata": {},
   "source": [
    "openssl dhparam 4096"
   ]
  },
  {
   "cell_type": "markdown",
   "id": "47b8e4c3",
   "metadata": {},
   "source": [
    "-----BEGIN DH PARAMETERS-----\n",
    "\n",
    "MIICCAKCAgEA1AZK8lhfnQwHSsIrt09tFUOznkLQCH0v+fgiwNw2ezIdhgDyjLm9\n",
    "yQYd0uPvfO6DwdkRsyx8sxgAt/4Im9l1jAxz7gWJeBS5qKimRVrwFYt8q2L3z5d3\n",
    "PkC7r5HzroOQuxN1R4zGmmU3bxZSYtJDirOCTZTWJGh06m+s4/S6eGaSBRUfaxeC\n",
    "fyoa277Kjc4SXbZzYyibyESGKA3RqbywCd5jQDsjSLrQBOBR4eWw285AVkEPLDWQ\n",
    "ibyAF0GRs4XBVlW7NQq0J2sp5Tk45yhPpq6QV2btf0CmcsqBs0a6N0pi77qluRNv\n",
    "wTFYR16eh1ctGuo2/2mUkeDudCz1D7Mc9TrMOrtHPXo2iSrdyg5NWtcJq9+dglnK\n",
    "No9IHfuItIFM9kV4eScNVaA07oxjV3xRW3T+QwakQOTAnI4aR05nJat2VCVNOfQs\n",
    "Urg+0HslH1sYBZFn0zaPCqJAjOU+TTnaIDkH80d0ERNAjD32GiwsWAz9Obdr2yDy\n",
    "J01Qv2mRS4f5gnPJP99iJwpF6Uib+/28YHvY1uBsdiQ0zsvlulv51/+8NDcOFLm8\n",
    "KXVt2qDK9MecWv+bquZ1T+OC9n75nkQlQk7oKC/KZUwIf0I4G8/gb1TINEDb/ryu\n",
    "9g0Iix5ZGIPIseJb9l2dcy+W7YxPCssZCrAVXnzbZsPI0XE7kxS2WPcCAQI=\n",
    "\n",
    "-----END DH PARAMETERS-----"
   ]
  },
  {
   "cell_type": "markdown",
   "id": "b7e4f12e",
   "metadata": {},
   "source": [
    "# 2."
   ]
  },
  {
   "cell_type": "markdown",
   "id": "fa968717",
   "metadata": {},
   "source": [
    "openssl dhparam -dsaparam 4096"
   ]
  },
  {
   "cell_type": "markdown",
   "id": "7f463f00",
   "metadata": {},
   "source": [
    "-----BEGIN X9.42 DH PARAMETERS-----\n",
    "\n",
    "MIIEKQKCAgEAsmWiFggf8kjBp/3teIDZiyR+wzX3bJ9oZ+2HHyCLz7ryBeZZwYaO\n",
    "rlh2KwyNz2CVYq46T/GKzn9WVchTbunZni0P2y37/ETHUWNWBFSUq03kdKlcak10\n",
    "JR4M5zVwPV0srvw0cH6BYi0VTjQW5oygSCSfIIpXt0Zn6oyvalEC+Otb3xqqmrqw\n",
    "NBUWrrVYNPY3YmC3IVUizbkkgN2PtpSI5Idgs4GxlsGH2Xlk7S1R60QEBq3YeRP7\n",
    "rT9kdB+z5PBXLFVRBV8SavzJX/DBpq3594r2lkI6fPIzqHXuVwZNp588EI4Rb1Nc\n",
    "KxB4VJ1zlJxCmilGKdHuJ6DhqeRJT8ET5gqWyxb2A1QCnpEeXGir1Pq65XwR34Lm\n",
    "wAgMoevn4gmrLoKQIOlE6ywGrA7G9aqm33TyxzyaUNXsFzrXXhsPMUFBZy8kRy9n\n",
    "LDSHJxDlmZUi9xRdHEmnOrjzCRzmgmHlhkJrm9xRTuU8LsKrAYG/omgxJFqurMEZ\n",
    "DdWi5T3Zbf8tuPw6Bs6ArrCthO0AtWnvktIYNZbtDWKC+GQDDKvsaCpHGDXgEp9V\n",
    "4DsPid9e0Aixh11BRpAOWTTK0FfVpl2FtYJcgG2yAz+HupafvRwPzUa8HLLvNeeF\n",
    "R6ydHx77HInLYID3x4qEA2ziYLQqj3SxcDZrgUNBb3Pp788JW9nA9jMCggIBAJhD\n",
    "XZZkpaZWkmhNH57qQiKjPpJLg6t55ehu4Es1fUrHShM8ane2jPfMFI7gzr2/zNGp\n",
    "aBdrDX0ndvbIpdPKtwqVW7a82MFgf+oqSdqHJfMkW6k9+8qt74o6e2KjsHB0ex+B\n",
    "TQRrI+PyDur+5Uv89hO4Vt1YixY4HaDBK5goaLwFeesKaHo4PV5b/9dvaTQAAN9O\n",
    "X60zvzM+i2oVJK5qXOVXB68UwcCNWRrXLWiTY9zhxVa+josIsQZN6bK1ZaTgQ5Tb\n",
    "qPA5lJWdbdUP06r67t5T4CblggcnPyQCLTNjAGdvNyyOf8GaQnnco2NlG2U58VzH\n",
    "7RbXYmJh6Mhenjvga/trHDDnoaNl4d6OmcC9zwmKjtLDtgvvgIWtJusk2qygHDxc\n",
    "XZgv/mC1FhZgCzReb6x2x6FgHYDmje6b4qocqe3lv37zhvaP93GImPvICjKgjG6b\n",
    "PjKD2TDHdKWslGLM0vMMPUGB5LBO239yvINEMev0zWfKk3BuBxYJXl9VhHJ6R+h5\n",
    "C5PAsBcr79NncpwtOUhDF6E8r597XMrvpCKDNxKd3GpX5A6XTwrzXW7Q3qtsSD/S\n",
    "s8A68NvfUq1xEGa1y4k+hOqCwMd/TnZ3iVMjsVsfRJdkka2V+wo4vTUXty28NvdP\n",
    "QW6UeiRjr6NNZwqoBFJG0PQZ/f7nibPB+I2q1tJBAh0Aog2nev7jxfsJm5ChdEAC\n",
    "zcydku3TaKT9r0yT/w==\n",
    "\n",
    "-----END X9.42 DH PARAMETERS-----\n"
   ]
  },
  {
   "cell_type": "markdown",
   "id": "86fe433a",
   "metadata": {},
   "source": [
    "# 5."
   ]
  },
  {
   "cell_type": "code",
   "execution_count": 3,
   "id": "91b9f039",
   "metadata": {},
   "outputs": [
    {
     "name": "stdout",
     "output_type": "stream",
     "text": [
      "Y: 805\n",
      "S: 397\n"
     ]
    }
   ],
   "source": [
    "import math\n",
    "\n",
    "p=1373  \n",
    "g=2  \n",
    "X=974 \n",
    "y=871\n",
    "\n",
    "Y=(g**y) % p\n",
    "print(f'Y: {Y}')\n",
    "S=(X**y) % p\n",
    "print(f'S: {S}')"
   ]
  },
  {
   "cell_type": "markdown",
   "id": "7ff3224a",
   "metadata": {},
   "source": [
    "Não é possivel calcular a chave privada da Alice"
   ]
  }
 ],
 "metadata": {
  "kernelspec": {
   "display_name": "Python 3 (ipykernel)",
   "language": "python",
   "name": "python3"
  },
  "language_info": {
   "codemirror_mode": {
    "name": "ipython",
    "version": 3
   },
   "file_extension": ".py",
   "mimetype": "text/x-python",
   "name": "python",
   "nbconvert_exporter": "python",
   "pygments_lexer": "ipython3",
   "version": "3.10.6"
  }
 },
 "nbformat": 4,
 "nbformat_minor": 5
}
